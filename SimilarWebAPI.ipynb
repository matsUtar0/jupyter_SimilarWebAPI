{
 "cells": [
  {
   "cell_type": "markdown",
   "metadata": {},
   "source": [
    "# SimilarWebの数値取得"
   ]
  },
  {
   "cell_type": "markdown",
   "metadata": {},
   "source": [
    "## ライブラリの呼び出し"
   ]
  },
  {
   "cell_type": "code",
   "execution_count": 30,
   "metadata": {},
   "outputs": [],
   "source": [
    "import sys,json,os,subprocess\n",
    "import urllib.request\n",
    "import pandas as pd\n",
    "from dotenv import load_dotenv, find_dotenv"
   ]
  },
  {
   "cell_type": "markdown",
   "metadata": {},
   "source": [
    "## 環境変数の呼び出し"
   ]
  },
  {
   "cell_type": "code",
   "execution_count": 2,
   "metadata": {},
   "outputs": [],
   "source": [
    "#  ディレクトリから.envファイルを探す\n",
    "dotenv_path = find_dotenv()\n",
    "\n",
    "# 環境変数をロード\n",
    "load_dotenv(dotenv_path)\n",
    "\n",
    "# API_KEYに環境変数を代入\n",
    "API_KEY = os.environ.get(\"SimilarWeb_API_KEY\")"
   ]
  },
  {
   "cell_type": "markdown",
   "metadata": {},
   "source": [
    "## 引数の取得"
   ]
  },
  {
   "cell_type": "code",
   "execution_count": null,
   "metadata": {},
   "outputs": [],
   "source": [
    "args = sys.argv\n",
    "domain = args[1]\n",
    "start_date = args[2]\n",
    "end_date = args[3]"
   ]
  },
  {
   "cell_type": "markdown",
   "metadata": {},
   "source": [
    "## パラメータを渡して、APIコール用のURLを返す関数"
   ]
  },
  {
   "cell_type": "code",
   "execution_count": 3,
   "metadata": {},
   "outputs": [],
   "source": [
    "def get_call_url(version,domain,endpoint_group,endpoint,API_KEY,start_date,end_date):\n",
    "    url_format = 'https://api.similarweb.com/{}/website/{}/{}/{}?api_key={}&start_date={}&end_date={}&main_domain_only=false&granularity=monthly&country=JP'\n",
    "    url = url_format.format(version,domain,endpoint_group,endpoint,API_KEY,start_date,end_date)\n",
    "    return(url)"
   ]
  },
  {
   "cell_type": "markdown",
   "metadata": {},
   "source": [
    "## APIコール用のURLを渡して、レスポンスをjson形式で返す関数"
   ]
  },
  {
   "cell_type": "code",
   "execution_count": 4,
   "metadata": {},
   "outputs": [],
   "source": [
    "def get_api_data(url):\n",
    "    # APIコールし、HTTPレスポンスをresponseに格納\n",
    "    response = urllib.request.urlopen(url)\n",
    "\n",
    "    # HTTPレスポンスをjsonにパース\n",
    "    read = response.read()\n",
    "    data = json.loads(read)\n",
    "\n",
    "    # APIコールが失敗した場合はEmptyを返す\n",
    "    if data['meta']['status'] != 'Success':\n",
    "        return('Empty')\n",
    "    return(data)"
   ]
  },
  {
   "cell_type": "markdown",
   "metadata": {},
   "source": [
    "## json形式のレスポンスを渡して、インデックス（デバイス、ドメイン、期間の幅、期間）を返す関数"
   ]
  },
  {
   "cell_type": "code",
   "execution_count": 5,
   "metadata": {},
   "outputs": [],
   "source": [
    "def get_index_data(data,device):\n",
    "    # 結果格納用のリスト\n",
    "    meta = json_for_index['meta']\n",
    "    index = []\n",
    "\n",
    "    # 結果の格納\n",
    "    for visit in json_for_index['visits']:\n",
    "\n",
    "        # 期間ごとにリストに格納\n",
    "        single = [device, meta['request']['domain'], meta['request']['granularity'],visit['date']]\n",
    "\n",
    "        # 期間ごとのリストを結果に格納\n",
    "        index.append(single)\n",
    "        \n",
    "    df_index = pd.DataFrame(index,columns=['デバイス','ドメイン','期間の幅','期間'])\n",
    "    return(df_index)"
   ]
  },
  {
   "cell_type": "markdown",
   "metadata": {},
   "source": [
    "## json形式のレスポンスを渡して、指標を返す関数"
   ]
  },
  {
   "cell_type": "code",
   "execution_count": 6,
   "metadata": {},
   "outputs": [],
   "source": [
    "def get_metrics(data,metrics):\n",
    "    # 結果格納用のリスト\n",
    "    meta = data['meta']\n",
    "    result = []\n",
    "\n",
    "    # 結果の格納\n",
    "    for metric in data[metrics]:\n",
    "\n",
    "        # 期間ごとにリストに格納\n",
    "        single = []\n",
    "        for val in metric.values():\n",
    "\n",
    "            single.append(val)\n",
    "\n",
    "        # 期間ごとのリストを結果に格納\n",
    "        result.append(single)\n",
    "    \n",
    "    de_metric = pd.DataFrame(result,columns=['期間',metrics])\n",
    "    return(de_metric)"
   ]
  },
  {
   "cell_type": "markdown",
   "metadata": {},
   "source": [
    "## APIセットの定義"
   ]
  },
  {
   "cell_type": "code",
   "execution_count": 7,
   "metadata": {},
   "outputs": [],
   "source": [
    "# total用のAPIセット\n",
    "api_set_total = {'version': 'v1',\n",
    "                        'endpoint_group': 'total-traffic-and-engagement',\n",
    "                        'endpoint': ['visits','pages-per-visit','average-visit-duration','bounce-rate']\n",
    "                        }\n",
    "\n",
    "# desktop用のAPIセット\n",
    "api_set_desktop = {'version': 'v1',\n",
    "                        'endpoint_group': 'traffic-and-engagement',\n",
    "                        'endpoint': ['visits','pages-per-visit','average-visit-duration','bounce-rate']\n",
    "                        }\n",
    "\n",
    "# mobile用のAPIセット\n",
    "api_set_mobile = {'version': 'v2',\n",
    "                        'endpoint_group': 'mobile-web',\n",
    "                        'endpoint': ['visits','pages-per-visit','average-visit-duration','bounce-rate']\n",
    "                        }\n",
    "\n",
    "# 各デバイスのAPIセットを結合\n",
    "api_set = {\n",
    "    'total': api_set_total,\n",
    "    'desktop':api_set_desktop,\n",
    "    'mobile':api_set_mobile\n",
    "}"
   ]
  },
  {
   "cell_type": "markdown",
   "metadata": {},
   "source": [
    "## パラメータを渡してコールURLのリストを取得する関数"
   ]
  },
  {
   "cell_type": "code",
   "execution_count": 13,
   "metadata": {},
   "outputs": [],
   "source": [
    "def param_get(api_set,device,domain,API_KEY,start_date,end_date):\n",
    "    url_dict = {}\n",
    "    version = api_set[device]['version']\n",
    "    endpoint_group = api_set[device]['endpoint_group']\n",
    "    for point in api_set[device]['endpoint']:\n",
    "        endpoint = point\n",
    "        url_dict[point] = get_call_url(version,domain,endpoint_group,endpoint,API_KEY,start_date,end_date)\n",
    "    return(url_dict)"
   ]
  },
  {
   "cell_type": "markdown",
   "metadata": {},
   "source": [
    "## 結果の取得・csvへの格納"
   ]
  },
  {
   "cell_type": "code",
   "execution_count": 26,
   "metadata": {},
   "outputs": [],
   "source": [
    "# 空のデータフレーム\n",
    "result_df = pd.DataFrame(index=[],columns=[])\n",
    "\n",
    "# 取得するデバイス\n",
    "devices = ['total','desktop','mobile']\n",
    "\n",
    "for device in devices:\n",
    "\n",
    "    # パラメータを渡して、APIコール用のURLを辞書に格納\n",
    "    url_dict = param_get(api_set,device,domain,API_KEY,start_date,end_date)\n",
    "\n",
    "    # インデックスのデータフレームを取得\n",
    "    json_for_index = get_api_data(url_dict['visits'])\n",
    "    index = get_index_data(json_for_index,device)\n",
    "\n",
    "    # 指標のデータフレームを取得\n",
    "    for endpoint,call_url in url_dict.items():\n",
    "        json_result = get_api_data(call_url)\n",
    "        endpoint = endpoint.replace('-','_')\n",
    "        metrics = get_metrics(json_result,endpoint)\n",
    "        index = pd.merge(index, metrics, on='期間')\n",
    "    \n",
    "    # デバイスごとのインデックス、指標をデータフレームに追加\n",
    "    result_df = result_df.append(index)"
   ]
  },
  {
   "cell_type": "code",
   "execution_count": 27,
   "metadata": {
    "scrolled": true
   },
   "outputs": [
    {
     "data": {
      "text/html": [
       "<div>\n",
       "<style scoped>\n",
       "    .dataframe tbody tr th:only-of-type {\n",
       "        vertical-align: middle;\n",
       "    }\n",
       "\n",
       "    .dataframe tbody tr th {\n",
       "        vertical-align: top;\n",
       "    }\n",
       "\n",
       "    .dataframe thead th {\n",
       "        text-align: right;\n",
       "    }\n",
       "</style>\n",
       "<table border=\"1\" class=\"dataframe\">\n",
       "  <thead>\n",
       "    <tr style=\"text-align: right;\">\n",
       "      <th></th>\n",
       "      <th>デバイス</th>\n",
       "      <th>ドメイン</th>\n",
       "      <th>期間の幅</th>\n",
       "      <th>期間</th>\n",
       "      <th>visits</th>\n",
       "      <th>pages_per_visit</th>\n",
       "      <th>average_visit_duration</th>\n",
       "      <th>bounce_rate</th>\n",
       "    </tr>\n",
       "  </thead>\n",
       "  <tbody>\n",
       "    <tr>\n",
       "      <th>0</th>\n",
       "      <td>total</td>\n",
       "      <td>employment.en-japan.com</td>\n",
       "      <td>Monthly</td>\n",
       "      <td>2017-09-01</td>\n",
       "      <td>7.678257e+06</td>\n",
       "      <td>3.975485</td>\n",
       "      <td>259.296115</td>\n",
       "      <td>0.561653</td>\n",
       "    </tr>\n",
       "    <tr>\n",
       "      <th>1</th>\n",
       "      <td>total</td>\n",
       "      <td>employment.en-japan.com</td>\n",
       "      <td>Monthly</td>\n",
       "      <td>2017-10-01</td>\n",
       "      <td>8.507551e+06</td>\n",
       "      <td>3.934532</td>\n",
       "      <td>243.740598</td>\n",
       "      <td>0.571127</td>\n",
       "    </tr>\n",
       "    <tr>\n",
       "      <th>2</th>\n",
       "      <td>total</td>\n",
       "      <td>employment.en-japan.com</td>\n",
       "      <td>Monthly</td>\n",
       "      <td>2017-11-01</td>\n",
       "      <td>6.773985e+06</td>\n",
       "      <td>4.405560</td>\n",
       "      <td>272.679087</td>\n",
       "      <td>0.526175</td>\n",
       "    </tr>\n",
       "    <tr>\n",
       "      <th>0</th>\n",
       "      <td>desktop</td>\n",
       "      <td>employment.en-japan.com</td>\n",
       "      <td>Monthly</td>\n",
       "      <td>2017-09-01</td>\n",
       "      <td>2.559298e+06</td>\n",
       "      <td>5.007236</td>\n",
       "      <td>287.402316</td>\n",
       "      <td>0.510201</td>\n",
       "    </tr>\n",
       "    <tr>\n",
       "      <th>1</th>\n",
       "      <td>desktop</td>\n",
       "      <td>employment.en-japan.com</td>\n",
       "      <td>Monthly</td>\n",
       "      <td>2017-10-01</td>\n",
       "      <td>2.935992e+06</td>\n",
       "      <td>5.284600</td>\n",
       "      <td>285.694443</td>\n",
       "      <td>0.509441</td>\n",
       "    </tr>\n",
       "    <tr>\n",
       "      <th>2</th>\n",
       "      <td>desktop</td>\n",
       "      <td>employment.en-japan.com</td>\n",
       "      <td>Monthly</td>\n",
       "      <td>2017-11-01</td>\n",
       "      <td>2.451344e+06</td>\n",
       "      <td>5.619975</td>\n",
       "      <td>286.259646</td>\n",
       "      <td>0.511161</td>\n",
       "    </tr>\n",
       "    <tr>\n",
       "      <th>0</th>\n",
       "      <td>mobile</td>\n",
       "      <td>employment.en-japan.com</td>\n",
       "      <td>Monthly</td>\n",
       "      <td>2017-09-01</td>\n",
       "      <td>5.118959e+06</td>\n",
       "      <td>3.459646</td>\n",
       "      <td>245.244007</td>\n",
       "      <td>0.587377</td>\n",
       "    </tr>\n",
       "    <tr>\n",
       "      <th>1</th>\n",
       "      <td>mobile</td>\n",
       "      <td>employment.en-japan.com</td>\n",
       "      <td>Monthly</td>\n",
       "      <td>2017-10-01</td>\n",
       "      <td>5.571558e+06</td>\n",
       "      <td>3.223099</td>\n",
       "      <td>221.632569</td>\n",
       "      <td>0.603633</td>\n",
       "    </tr>\n",
       "    <tr>\n",
       "      <th>2</th>\n",
       "      <td>mobile</td>\n",
       "      <td>employment.en-japan.com</td>\n",
       "      <td>Monthly</td>\n",
       "      <td>2017-11-01</td>\n",
       "      <td>4.322641e+06</td>\n",
       "      <td>3.716873</td>\n",
       "      <td>264.977634</td>\n",
       "      <td>0.534688</td>\n",
       "    </tr>\n",
       "  </tbody>\n",
       "</table>\n",
       "</div>"
      ],
      "text/plain": [
       "      デバイス                     ドメイン     期間の幅          期間        visits  \\\n",
       "0    total  employment.en-japan.com  Monthly  2017-09-01  7.678257e+06   \n",
       "1    total  employment.en-japan.com  Monthly  2017-10-01  8.507551e+06   \n",
       "2    total  employment.en-japan.com  Monthly  2017-11-01  6.773985e+06   \n",
       "0  desktop  employment.en-japan.com  Monthly  2017-09-01  2.559298e+06   \n",
       "1  desktop  employment.en-japan.com  Monthly  2017-10-01  2.935992e+06   \n",
       "2  desktop  employment.en-japan.com  Monthly  2017-11-01  2.451344e+06   \n",
       "0   mobile  employment.en-japan.com  Monthly  2017-09-01  5.118959e+06   \n",
       "1   mobile  employment.en-japan.com  Monthly  2017-10-01  5.571558e+06   \n",
       "2   mobile  employment.en-japan.com  Monthly  2017-11-01  4.322641e+06   \n",
       "\n",
       "   pages_per_visit  average_visit_duration  bounce_rate  \n",
       "0         3.975485              259.296115     0.561653  \n",
       "1         3.934532              243.740598     0.571127  \n",
       "2         4.405560              272.679087     0.526175  \n",
       "0         5.007236              287.402316     0.510201  \n",
       "1         5.284600              285.694443     0.509441  \n",
       "2         5.619975              286.259646     0.511161  \n",
       "0         3.459646              245.244007     0.587377  \n",
       "1         3.223099              221.632569     0.603633  \n",
       "2         3.716873              264.977634     0.534688  "
      ]
     },
     "execution_count": 27,
     "metadata": {},
     "output_type": "execute_result"
    }
   ],
   "source": [
    "# 結果の描画\n",
    "result_df"
   ]
  },
  {
   "cell_type": "code",
   "execution_count": 28,
   "metadata": {},
   "outputs": [],
   "source": [
    "# csvに格納\n",
    "result_df.to_csv(\"result.csv\", index=False, mode='a', header=False)"
   ]
  },
  {
   "cell_type": "code",
   "execution_count": 32,
   "metadata": {},
   "outputs": [
    {
     "data": {
      "text/plain": [
       "CompletedProcess(args=['jupyter', 'nbconvert', '--to', 'python', 'SimilarWebAPI.ipynb'], returncode=0)"
      ]
     },
     "execution_count": 32,
     "metadata": {},
     "output_type": "execute_result"
    }
   ],
   "source": [
    "# pyファイルに変換して保存\n",
    "subprocess.run(['jupyter', 'nbconvert', '--to', 'python', 'SimilarWebAPI.ipynb'])"
   ]
  },
  {
   "cell_type": "code",
   "execution_count": null,
   "metadata": {},
   "outputs": [],
   "source": []
  }
 ],
 "metadata": {
  "kernelspec": {
   "display_name": "Python 3",
   "language": "python",
   "name": "python3"
  },
  "language_info": {
   "codemirror_mode": {
    "name": "ipython",
    "version": 3
   },
   "file_extension": ".py",
   "mimetype": "text/x-python",
   "name": "python",
   "nbconvert_exporter": "python",
   "pygments_lexer": "ipython3",
   "version": "3.6.4"
  }
 },
 "nbformat": 4,
 "nbformat_minor": 2
}
