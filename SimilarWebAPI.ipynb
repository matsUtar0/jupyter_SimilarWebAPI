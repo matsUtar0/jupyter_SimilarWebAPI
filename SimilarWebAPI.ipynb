{
 "cells": [
  {
   "cell_type": "markdown",
   "metadata": {},
   "source": [
    "# SimilarWebの数値取得"
   ]
  },
  {
   "cell_type": "markdown",
   "metadata": {},
   "source": [
    "## ライブラリの呼び出し"
   ]
  },
  {
   "cell_type": "code",
   "execution_count": 3,
   "metadata": {},
   "outputs": [],
   "source": [
    "import sys,json\n",
    "import urllib.request\n",
    "import os\n",
    "from dotenv import load_dotenv, find_dotenv"
   ]
  },
  {
   "cell_type": "markdown",
   "metadata": {},
   "source": [
    "## 環境変数の呼び出し"
   ]
  },
  {
   "cell_type": "code",
   "execution_count": 4,
   "metadata": {},
   "outputs": [],
   "source": [
    "#  ディレクトリから.envファイルを探す\n",
    "dotenv_path = find_dotenv()\n",
    "\n",
    "# 環境変数をロード\n",
    "load_dotenv(dotenv_path)\n",
    "\n",
    "# API_KEYに環境変数を代入\n",
    "API_KEY = os.environ.get(\"SimilarWeb_API_KEY\")"
   ]
  },
  {
   "cell_type": "markdown",
   "metadata": {},
   "source": [
    "## APIコール用のURL作成"
   ]
  },
  {
   "cell_type": "code",
   "execution_count": 9,
   "metadata": {},
   "outputs": [],
   "source": [
    "version = 'v1'\n",
    "domain = 'employment.en-japan.com'\n",
    "endpoint_group = 'traffic-and-engagement'\n",
    "endpoint = 'visits'\n",
    "start_date = '2017-09'\n",
    "end_date = '2017-09'\n",
    "\n",
    "url_format = 'https://api.similarweb.com/{}/website/{}/{}/{}?api_key={}&start_date={}&end_date={}&main_domain_only=false&granularity=monthly&country=JP'\n",
    "url = url_format.format(version,domain,endpoint_group,endpoint,API_KEY,start_date,end_date)"
   ]
  },
  {
   "cell_type": "markdown",
   "metadata": {},
   "source": [
    "## レスポンスを取得"
   ]
  },
  {
   "cell_type": "code",
   "execution_count": 12,
   "metadata": {},
   "outputs": [],
   "source": [
    "# APIコールし、HTTPレスポンスをresponseに格納\n",
    "response = urllib.request.urlopen(url)\n",
    "\n",
    "# HTTPレスポンスをjsonにパース\n",
    "read = response.read()\n",
    "data = json.loads(read)"
   ]
  },
  {
   "cell_type": "code",
   "execution_count": 13,
   "metadata": {},
   "outputs": [
    {
     "data": {
      "text/plain": [
       "{'meta': {'device': 'Desktop',\n",
       "  'last_updated': '2017-12-31',\n",
       "  'request': {'country': 'JP',\n",
       "   'domain': 'employment.en-japan.com',\n",
       "   'end_date': '2017-09-30',\n",
       "   'format': None,\n",
       "   'granularity': 'Monthly',\n",
       "   'limit': None,\n",
       "   'main_domain_only': False,\n",
       "   'start_date': '2017-09-01'},\n",
       "  'status': 'Success'},\n",
       " 'visits': [{'date': '2017-09-01', 'visits': 2559298.422281931}]}"
      ]
     },
     "execution_count": 13,
     "metadata": {},
     "output_type": "execute_result"
    }
   ],
   "source": [
    "data"
   ]
  },
  {
   "cell_type": "code",
   "execution_count": null,
   "metadata": {},
   "outputs": [],
   "source": []
  }
 ],
 "metadata": {
  "kernelspec": {
   "display_name": "Python 3",
   "language": "python",
   "name": "python3"
  },
  "language_info": {
   "codemirror_mode": {
    "name": "ipython",
    "version": 3
   },
   "file_extension": ".py",
   "mimetype": "text/x-python",
   "name": "python",
   "nbconvert_exporter": "python",
   "pygments_lexer": "ipython3",
   "version": "3.6.4"
  }
 },
 "nbformat": 4,
 "nbformat_minor": 2
}
