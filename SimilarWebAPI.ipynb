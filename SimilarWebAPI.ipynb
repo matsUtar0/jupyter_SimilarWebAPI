{
 "cells": [
  {
   "cell_type": "markdown",
   "metadata": {},
   "source": [
    "# SimilarWebの数値取得"
   ]
  },
  {
   "cell_type": "markdown",
   "metadata": {},
   "source": [
    "## ライブラリの呼び出し"
   ]
  },
  {
   "cell_type": "code",
   "execution_count": 1,
   "metadata": {},
   "outputs": [],
   "source": [
    "import sys,json,os\n",
    "import urllib.request\n",
    "import pandas as pd\n",
    "from dotenv import load_dotenv, find_dotenv"
   ]
  },
  {
   "cell_type": "markdown",
   "metadata": {},
   "source": [
    "## 環境変数の呼び出し"
   ]
  },
  {
   "cell_type": "code",
   "execution_count": 2,
   "metadata": {},
   "outputs": [],
   "source": [
    "#  ディレクトリから.envファイルを探す\n",
    "dotenv_path = find_dotenv()\n",
    "\n",
    "# 環境変数をロード\n",
    "load_dotenv(dotenv_path)\n",
    "\n",
    "# API_KEYに環境変数を代入\n",
    "API_KEY = os.environ.get(\"SimilarWeb_API_KEY\")"
   ]
  },
  {
   "cell_type": "markdown",
   "metadata": {},
   "source": [
    "## APIコール用のURL作成"
   ]
  },
  {
   "cell_type": "code",
   "execution_count": 3,
   "metadata": {},
   "outputs": [],
   "source": [
    "version = 'v1'\n",
    "domain = 'employment.en-japan.com'\n",
    "endpoint_group = 'traffic-and-engagement'\n",
    "endpoint = 'visits'\n",
    "start_date = '2017-09'\n",
    "end_date = '2017-11'\n",
    "\n",
    "url_format = 'https://api.similarweb.com/{}/website/{}/{}/{}?api_key={}&start_date={}&end_date={}&main_domain_only=false&granularity=monthly&country=JP'\n",
    "url = url_format.format(version,domain,endpoint_group,endpoint,API_KEY,start_date,end_date)"
   ]
  },
  {
   "cell_type": "markdown",
   "metadata": {},
   "source": [
    "## レスポンスを取得"
   ]
  },
  {
   "cell_type": "code",
   "execution_count": 4,
   "metadata": {},
   "outputs": [],
   "source": [
    "# APIコールし、HTTPレスポンスをresponseに格納\n",
    "response = urllib.request.urlopen(url)\n",
    "\n",
    "# HTTPレスポンスをjsonにパース\n",
    "read = response.read()\n",
    "data = json.loads(read)\n",
    "\n",
    "# APIコールが失敗した場合はEmptyを返す\n",
    "if data['meta']['status'] != 'Success':\n",
    "    print('Empty')"
   ]
  },
  {
   "cell_type": "code",
   "execution_count": 5,
   "metadata": {},
   "outputs": [
    {
     "data": {
      "text/plain": [
       "{'meta': {'device': 'Desktop',\n",
       "  'last_updated': '2017-12-31',\n",
       "  'request': {'country': 'JP',\n",
       "   'domain': 'employment.en-japan.com',\n",
       "   'end_date': '2017-11-30',\n",
       "   'format': None,\n",
       "   'granularity': 'Monthly',\n",
       "   'limit': None,\n",
       "   'main_domain_only': False,\n",
       "   'start_date': '2017-09-01'},\n",
       "  'status': 'Success'},\n",
       " 'visits': [{'date': '2017-09-01', 'visits': 2559298.422281931},\n",
       "  {'date': '2017-10-01', 'visits': 2935992.3870797404},\n",
       "  {'date': '2017-11-01', 'visits': 2451343.8759825565}]}"
      ]
     },
     "execution_count": 5,
     "metadata": {},
     "output_type": "execute_result"
    }
   ],
   "source": [
    "data"
   ]
  },
  {
   "cell_type": "code",
   "execution_count": 6,
   "metadata": {},
   "outputs": [
    {
     "name": "stdout",
     "output_type": "stream",
     "text": [
      "デバイス: Desktop\n",
      "ドメイン: employment.en-japan.com\n",
      "取得幅: Monthly\n",
      "期間: 2017-09-01\n",
      "値: 2559298.422281931\n"
     ]
    }
   ],
   "source": [
    "print('デバイス: ' + data['meta']['device'])\n",
    "print('ドメイン: ' + data['meta']['request']['domain'])\n",
    "print('取得幅: ' + data['meta']['request']['granularity'])\n",
    "print('期間: ' + data['visits'][0]['date'])\n",
    "print('値: ' + str(data['visits'][0]['visits']))"
   ]
  },
  {
   "cell_type": "code",
   "execution_count": 7,
   "metadata": {},
   "outputs": [],
   "source": [
    "# カテゴリの格納\n",
    "device = data['meta']['device']\n",
    "domain = data['meta']['request']['domain']\n",
    "granularity = data['meta']['request']['granularity']"
   ]
  },
  {
   "cell_type": "code",
   "execution_count": 8,
   "metadata": {},
   "outputs": [],
   "source": [
    "metrics = 'visits'\n",
    "# 結果格納用のリスト\n",
    "meta = data['meta']\n",
    "result = []\n",
    "\n",
    "# 結果の格納\n",
    "#for visit in data['visits']:\n",
    "for visit in data[metrics]:\n",
    "    \n",
    "    # 期間ごとにリストに格納\n",
    "    single = [device, domain, granularity]\n",
    "    for val in visit.values():\n",
    "        \n",
    "        single.append(val)\n",
    "\n",
    "    # 期間ごとのリストを結果に格納\n",
    "    result.append(single)"
   ]
  },
  {
   "cell_type": "code",
   "execution_count": 9,
   "metadata": {},
   "outputs": [
    {
     "data": {
      "text/plain": [
       "[['Desktop',\n",
       "  'employment.en-japan.com',\n",
       "  'Monthly',\n",
       "  '2017-09-01',\n",
       "  2559298.422281931],\n",
       " ['Desktop',\n",
       "  'employment.en-japan.com',\n",
       "  'Monthly',\n",
       "  '2017-10-01',\n",
       "  2935992.3870797404],\n",
       " ['Desktop',\n",
       "  'employment.en-japan.com',\n",
       "  'Monthly',\n",
       "  '2017-11-01',\n",
       "  2451343.8759825565]]"
      ]
     },
     "execution_count": 9,
     "metadata": {},
     "output_type": "execute_result"
    }
   ],
   "source": [
    "result"
   ]
  },
  {
   "cell_type": "code",
   "execution_count": 10,
   "metadata": {},
   "outputs": [],
   "source": [
    "dfvi = pd.DataFrame(result)"
   ]
  },
  {
   "cell_type": "code",
   "execution_count": 11,
   "metadata": {},
   "outputs": [
    {
     "data": {
      "text/html": [
       "<div>\n",
       "<style scoped>\n",
       "    .dataframe tbody tr th:only-of-type {\n",
       "        vertical-align: middle;\n",
       "    }\n",
       "\n",
       "    .dataframe tbody tr th {\n",
       "        vertical-align: top;\n",
       "    }\n",
       "\n",
       "    .dataframe thead th {\n",
       "        text-align: right;\n",
       "    }\n",
       "</style>\n",
       "<table border=\"1\" class=\"dataframe\">\n",
       "  <thead>\n",
       "    <tr style=\"text-align: right;\">\n",
       "      <th></th>\n",
       "      <th>0</th>\n",
       "      <th>1</th>\n",
       "      <th>2</th>\n",
       "      <th>3</th>\n",
       "      <th>4</th>\n",
       "    </tr>\n",
       "  </thead>\n",
       "  <tbody>\n",
       "    <tr>\n",
       "      <th>0</th>\n",
       "      <td>Desktop</td>\n",
       "      <td>employment.en-japan.com</td>\n",
       "      <td>Monthly</td>\n",
       "      <td>2017-09-01</td>\n",
       "      <td>2.559298e+06</td>\n",
       "    </tr>\n",
       "    <tr>\n",
       "      <th>1</th>\n",
       "      <td>Desktop</td>\n",
       "      <td>employment.en-japan.com</td>\n",
       "      <td>Monthly</td>\n",
       "      <td>2017-10-01</td>\n",
       "      <td>2.935992e+06</td>\n",
       "    </tr>\n",
       "    <tr>\n",
       "      <th>2</th>\n",
       "      <td>Desktop</td>\n",
       "      <td>employment.en-japan.com</td>\n",
       "      <td>Monthly</td>\n",
       "      <td>2017-11-01</td>\n",
       "      <td>2.451344e+06</td>\n",
       "    </tr>\n",
       "  </tbody>\n",
       "</table>\n",
       "</div>"
      ],
      "text/plain": [
       "         0                        1        2           3             4\n",
       "0  Desktop  employment.en-japan.com  Monthly  2017-09-01  2.559298e+06\n",
       "1  Desktop  employment.en-japan.com  Monthly  2017-10-01  2.935992e+06\n",
       "2  Desktop  employment.en-japan.com  Monthly  2017-11-01  2.451344e+06"
      ]
     },
     "execution_count": 11,
     "metadata": {},
     "output_type": "execute_result"
    }
   ],
   "source": [
    "dfvi"
   ]
  },
  {
   "cell_type": "code",
   "execution_count": 12,
   "metadata": {},
   "outputs": [],
   "source": [
    "def get_call_url(version,domain,endpoint_group,endpoint,API_KEY,start_date,end_date):\n",
    "    url_format = 'https://api.similarweb.com/{}/website/{}/{}/{}?api_key={}&start_date={}&end_date={}&main_domain_only=false&granularity=monthly&country=JP'\n",
    "    url = url_format.format(version,domain,endpoint_group,endpoint,API_KEY,start_date,end_date)\n",
    "    return(url)"
   ]
  },
  {
   "cell_type": "code",
   "execution_count": 13,
   "metadata": {},
   "outputs": [],
   "source": [
    "def get_api_data(url):\n",
    "    # APIコールし、HTTPレスポンスをresponseに格納\n",
    "    response = urllib.request.urlopen(url)\n",
    "\n",
    "    # HTTPレスポンスをjsonにパース\n",
    "    read = response.read()\n",
    "    data = json.loads(read)\n",
    "\n",
    "    # APIコールが失敗した場合はEmptyを返す\n",
    "    if data['meta']['status'] != 'Success':\n",
    "        return('Empty')\n",
    "    return(data)"
   ]
  },
  {
   "cell_type": "code",
   "execution_count": 14,
   "metadata": {},
   "outputs": [],
   "source": [
    "def get_index_data(data):\n",
    "    # 結果格納用のリスト\n",
    "    meta = data['meta']\n",
    "    index = []\n",
    "\n",
    "    # 結果の格納\n",
    "    for visit in data['visits']:\n",
    "\n",
    "        # 期間ごとにリストに格納\n",
    "        single = [device, domain, granularity,visit['date']]\n",
    "\n",
    "        # 期間ごとのリストを結果に格納\n",
    "        index.append(single)\n",
    "        \n",
    "    return(index)"
   ]
  },
  {
   "cell_type": "code",
   "execution_count": 20,
   "metadata": {},
   "outputs": [],
   "source": [
    "version = 'v1'\n",
    "domain = 'employment.en-japan.com'\n",
    "endpoint_group = 'traffic-and-engagement'\n",
    "endpoint = 'visits'\n",
    "start_date = '2017-09'\n",
    "end_date = '2017-11'\n",
    "\n",
    "url = get_call_url(version,domain,endpoint_group,endpoint,API_KEY,start_date,end_date)\n",
    "data = get_api_data(url)\n",
    "index = get_index_data(data)\n",
    "\n",
    "df_index = pd.DataFrame(index,columns=['デバイス','ドメイン','期間の幅','期間'])"
   ]
  },
  {
   "cell_type": "code",
   "execution_count": 21,
   "metadata": {},
   "outputs": [
    {
     "data": {
      "text/html": [
       "<div>\n",
       "<style scoped>\n",
       "    .dataframe tbody tr th:only-of-type {\n",
       "        vertical-align: middle;\n",
       "    }\n",
       "\n",
       "    .dataframe tbody tr th {\n",
       "        vertical-align: top;\n",
       "    }\n",
       "\n",
       "    .dataframe thead th {\n",
       "        text-align: right;\n",
       "    }\n",
       "</style>\n",
       "<table border=\"1\" class=\"dataframe\">\n",
       "  <thead>\n",
       "    <tr style=\"text-align: right;\">\n",
       "      <th></th>\n",
       "      <th>デバイス</th>\n",
       "      <th>ドメイン</th>\n",
       "      <th>期間の幅</th>\n",
       "      <th>期間</th>\n",
       "    </tr>\n",
       "  </thead>\n",
       "  <tbody>\n",
       "    <tr>\n",
       "      <th>0</th>\n",
       "      <td>Desktop</td>\n",
       "      <td>employment.en-japan.com</td>\n",
       "      <td>Monthly</td>\n",
       "      <td>2017-09-01</td>\n",
       "    </tr>\n",
       "    <tr>\n",
       "      <th>1</th>\n",
       "      <td>Desktop</td>\n",
       "      <td>employment.en-japan.com</td>\n",
       "      <td>Monthly</td>\n",
       "      <td>2017-10-01</td>\n",
       "    </tr>\n",
       "    <tr>\n",
       "      <th>2</th>\n",
       "      <td>Desktop</td>\n",
       "      <td>employment.en-japan.com</td>\n",
       "      <td>Monthly</td>\n",
       "      <td>2017-11-01</td>\n",
       "    </tr>\n",
       "  </tbody>\n",
       "</table>\n",
       "</div>"
      ],
      "text/plain": [
       "      デバイス                     ドメイン     期間の幅          期間\n",
       "0  Desktop  employment.en-japan.com  Monthly  2017-09-01\n",
       "1  Desktop  employment.en-japan.com  Monthly  2017-10-01\n",
       "2  Desktop  employment.en-japan.com  Monthly  2017-11-01"
      ]
     },
     "execution_count": 21,
     "metadata": {},
     "output_type": "execute_result"
    }
   ],
   "source": [
    "df_index"
   ]
  },
  {
   "cell_type": "code",
   "execution_count": 17,
   "metadata": {},
   "outputs": [],
   "source": [
    "def get_metrics(data,metrics):\n",
    "    # 結果格納用のリスト\n",
    "    meta = data['meta']\n",
    "    result = []\n",
    "\n",
    "    # 結果の格納\n",
    "    for metric in data[metrics]:\n",
    "\n",
    "        # 期間ごとにリストに格納\n",
    "        single = []\n",
    "        for val in metric.values():\n",
    "\n",
    "            single.append(val)\n",
    "\n",
    "        # 期間ごとのリストを結果に格納\n",
    "        result.append(single)\n",
    "    return(result)"
   ]
  },
  {
   "cell_type": "code",
   "execution_count": 22,
   "metadata": {},
   "outputs": [
    {
     "data": {
      "text/html": [
       "<div>\n",
       "<style scoped>\n",
       "    .dataframe tbody tr th:only-of-type {\n",
       "        vertical-align: middle;\n",
       "    }\n",
       "\n",
       "    .dataframe tbody tr th {\n",
       "        vertical-align: top;\n",
       "    }\n",
       "\n",
       "    .dataframe thead th {\n",
       "        text-align: right;\n",
       "    }\n",
       "</style>\n",
       "<table border=\"1\" class=\"dataframe\">\n",
       "  <thead>\n",
       "    <tr style=\"text-align: right;\">\n",
       "      <th></th>\n",
       "      <th>期間</th>\n",
       "      <th>訪問数</th>\n",
       "    </tr>\n",
       "  </thead>\n",
       "  <tbody>\n",
       "    <tr>\n",
       "      <th>0</th>\n",
       "      <td>2017-09-01</td>\n",
       "      <td>2.559298e+06</td>\n",
       "    </tr>\n",
       "    <tr>\n",
       "      <th>1</th>\n",
       "      <td>2017-10-01</td>\n",
       "      <td>2.935992e+06</td>\n",
       "    </tr>\n",
       "    <tr>\n",
       "      <th>2</th>\n",
       "      <td>2017-11-01</td>\n",
       "      <td>2.451344e+06</td>\n",
       "    </tr>\n",
       "  </tbody>\n",
       "</table>\n",
       "</div>"
      ],
      "text/plain": [
       "           期間           訪問数\n",
       "0  2017-09-01  2.559298e+06\n",
       "1  2017-10-01  2.935992e+06\n",
       "2  2017-11-01  2.451344e+06"
      ]
     },
     "execution_count": 22,
     "metadata": {},
     "output_type": "execute_result"
    }
   ],
   "source": [
    "metrics = 'visits'\n",
    "metric = pd.DataFrame(get_metrics(data,metrics),columns=['期間','訪問数'])\n",
    "metric"
   ]
  },
  {
   "cell_type": "code",
   "execution_count": 23,
   "metadata": {},
   "outputs": [
    {
     "data": {
      "text/html": [
       "<div>\n",
       "<style scoped>\n",
       "    .dataframe tbody tr th:only-of-type {\n",
       "        vertical-align: middle;\n",
       "    }\n",
       "\n",
       "    .dataframe tbody tr th {\n",
       "        vertical-align: top;\n",
       "    }\n",
       "\n",
       "    .dataframe thead th {\n",
       "        text-align: right;\n",
       "    }\n",
       "</style>\n",
       "<table border=\"1\" class=\"dataframe\">\n",
       "  <thead>\n",
       "    <tr style=\"text-align: right;\">\n",
       "      <th></th>\n",
       "      <th>デバイス</th>\n",
       "      <th>ドメイン</th>\n",
       "      <th>期間の幅</th>\n",
       "      <th>期間</th>\n",
       "      <th>訪問数</th>\n",
       "    </tr>\n",
       "  </thead>\n",
       "  <tbody>\n",
       "    <tr>\n",
       "      <th>0</th>\n",
       "      <td>Desktop</td>\n",
       "      <td>employment.en-japan.com</td>\n",
       "      <td>Monthly</td>\n",
       "      <td>2017-09-01</td>\n",
       "      <td>2.559298e+06</td>\n",
       "    </tr>\n",
       "    <tr>\n",
       "      <th>1</th>\n",
       "      <td>Desktop</td>\n",
       "      <td>employment.en-japan.com</td>\n",
       "      <td>Monthly</td>\n",
       "      <td>2017-10-01</td>\n",
       "      <td>2.935992e+06</td>\n",
       "    </tr>\n",
       "    <tr>\n",
       "      <th>2</th>\n",
       "      <td>Desktop</td>\n",
       "      <td>employment.en-japan.com</td>\n",
       "      <td>Monthly</td>\n",
       "      <td>2017-11-01</td>\n",
       "      <td>2.451344e+06</td>\n",
       "    </tr>\n",
       "  </tbody>\n",
       "</table>\n",
       "</div>"
      ],
      "text/plain": [
       "      デバイス                     ドメイン     期間の幅          期間           訪問数\n",
       "0  Desktop  employment.en-japan.com  Monthly  2017-09-01  2.559298e+06\n",
       "1  Desktop  employment.en-japan.com  Monthly  2017-10-01  2.935992e+06\n",
       "2  Desktop  employment.en-japan.com  Monthly  2017-11-01  2.451344e+06"
      ]
     },
     "execution_count": 23,
     "metadata": {},
     "output_type": "execute_result"
    }
   ],
   "source": [
    "pd.merge(df_index, metric, on='期間')"
   ]
  },
  {
   "cell_type": "code",
   "execution_count": null,
   "metadata": {},
   "outputs": [],
   "source": []
  }
 ],
 "metadata": {
  "kernelspec": {
   "display_name": "Python 3",
   "language": "python",
   "name": "python3"
  },
  "language_info": {
   "codemirror_mode": {
    "name": "ipython",
    "version": 3
   },
   "file_extension": ".py",
   "mimetype": "text/x-python",
   "name": "python",
   "nbconvert_exporter": "python",
   "pygments_lexer": "ipython3",
   "version": "3.6.4"
  }
 },
 "nbformat": 4,
 "nbformat_minor": 2
}
